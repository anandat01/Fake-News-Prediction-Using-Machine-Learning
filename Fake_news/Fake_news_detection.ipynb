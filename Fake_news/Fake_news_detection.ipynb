{
 "cells": [
  {
   "cell_type": "markdown",
   "metadata": {},
   "source": [
    "# FAKE NEWS PREDICTION USING MACHINE LEARNING\n",
    "## CHARLES DARWIN UNIVERSITY | COLLEGE OF ENGINEERING, INFORMATION TECHNOLOGY AND ENVIRONMENT\n",
    "### Ananda Tiwari (Student ID: S333652)\n"
   ]
  },
  {
   "cell_type": "markdown",
   "metadata": {},
   "source": [
    "### Library Import\n"
   ]
  },
  {
   "cell_type": "code",
   "execution_count": 1,
   "metadata": {},
   "outputs": [],
   "source": [
    "import pandas as pnda\n",
    "from sklearn.model_selection import train_test_split\n",
    "from sklearn.metrics import classification_report\n",
    "import re\n",
    "import string\n",
    "\n",
    "from sklearn.naive_bayes import GaussianNB\n",
    "from sklearn.linear_model import LogisticRegression\n",
    "from sklearn.tree import DecisionTreeClassifier\n",
    "from sklearn.ensemble import GradientBoostingClassifier\n",
    "from sklearn.ensemble import RandomForestClassifier"
   ]
  },
  {
   "cell_type": "markdown",
   "metadata": {},
   "source": [
    "### Import and prepare Dataset"
   ]
  },
  {
   "cell_type": "code",
   "execution_count": 2,
   "metadata": {},
   "outputs": [],
   "source": [
    "fake_dataset = pnda.read_csv(\"Compiled_Fake.csv\")\n",
    "true_dataset = pnda.read_csv(\"Compiled_True.csv\")"
   ]
  },
  {
   "cell_type": "markdown",
   "metadata": {},
   "source": [
    "Categorising fake as 0 and true as 1 and adding column class in the dataset"
   ]
  },
  {
   "cell_type": "code",
   "execution_count": 3,
   "metadata": {},
   "outputs": [],
   "source": [
    "fake_dataset[\"class\"] = 0\n",
    "true_dataset[\"class\"] = 1"
   ]
  },
  {
   "cell_type": "markdown",
   "metadata": {},
   "source": [
    "Taking out 5 data from both fake and true dataset for manual testing "
   ]
  },
  {
   "cell_type": "code",
   "execution_count": 4,
   "metadata": {},
   "outputs": [
    {
     "data": {
      "text/plain": [
       "((25, 14), (96, 15))"
      ]
     },
     "execution_count": 4,
     "metadata": {},
     "output_type": "execute_result"
    }
   ],
   "source": [
    "fake_dataset.shape, true_dataset.shape"
   ]
  },
  {
   "cell_type": "code",
   "execution_count": 5,
   "metadata": {},
   "outputs": [],
   "source": [
    "fake_dataset_manual_testing = fake_dataset.tail(5)\n",
    "for i in range(24,19,-1):\n",
    "    fake_dataset.drop([i], axis = 0, inplace = True)\n",
    "true_dataset_manual_testing = true_dataset.tail(5)\n",
    "for i in range(95,90,-1):\n",
    "    true_dataset.drop([i], axis = 0, inplace = True)"
   ]
  },
  {
   "cell_type": "code",
   "execution_count": 6,
   "metadata": {},
   "outputs": [
    {
     "data": {
      "text/plain": [
       "((20, 14), (91, 15))"
      ]
     },
     "execution_count": 6,
     "metadata": {},
     "output_type": "execute_result"
    }
   ],
   "source": [
    "fake_dataset.shape, true_dataset.shape"
   ]
  },
  {
   "cell_type": "markdown",
   "metadata": {},
   "source": [
    "combining manual testing datasets and save in a single file"
   ]
  },
  {
   "cell_type": "code",
   "execution_count": 7,
   "metadata": {},
   "outputs": [
    {
     "name": "stderr",
     "output_type": "stream",
     "text": [
      "C:\\Users\\Ananda\\AppData\\Local\\Temp/ipykernel_996/2564063938.py:1: SettingWithCopyWarning: \n",
      "A value is trying to be set on a copy of a slice from a DataFrame.\n",
      "Try using .loc[row_indexer,col_indexer] = value instead\n",
      "\n",
      "See the caveats in the documentation: https://pandas.pydata.org/pandas-docs/stable/user_guide/indexing.html#returning-a-view-versus-a-copy\n",
      "  fake_dataset_manual_testing[\"class\"] = 0\n",
      "C:\\Users\\Ananda\\AppData\\Local\\Temp/ipykernel_996/2564063938.py:2: SettingWithCopyWarning: \n",
      "A value is trying to be set on a copy of a slice from a DataFrame.\n",
      "Try using .loc[row_indexer,col_indexer] = value instead\n",
      "\n",
      "See the caveats in the documentation: https://pandas.pydata.org/pandas-docs/stable/user_guide/indexing.html#returning-a-view-versus-a-copy\n",
      "  true_dataset_manual_testing[\"class\"] = 1\n"
     ]
    }
   ],
   "source": [
    "fake_dataset_manual_testing[\"class\"] = 0\n",
    "true_dataset_manual_testing[\"class\"] = 1"
   ]
  },
  {
   "cell_type": "code",
   "execution_count": 8,
   "metadata": {},
   "outputs": [
    {
     "data": {
      "text/html": [
       "<div>\n",
       "<style scoped>\n",
       "    .dataframe tbody tr th:only-of-type {\n",
       "        vertical-align: middle;\n",
       "    }\n",
       "\n",
       "    .dataframe tbody tr th {\n",
       "        vertical-align: top;\n",
       "    }\n",
       "\n",
       "    .dataframe thead th {\n",
       "        text-align: right;\n",
       "    }\n",
       "</style>\n",
       "<table border=\"1\" class=\"dataframe\">\n",
       "  <thead>\n",
       "    <tr style=\"text-align: right;\">\n",
       "      <th></th>\n",
       "      <th>post_id</th>\n",
       "      <th>Category</th>\n",
       "      <th>Page</th>\n",
       "      <th>Post URL</th>\n",
       "      <th>Date Published</th>\n",
       "      <th>Post Type</th>\n",
       "      <th>Rating</th>\n",
       "      <th>Debate</th>\n",
       "      <th>share_count</th>\n",
       "      <th>reaction_count</th>\n",
       "      <th>comment_count</th>\n",
       "      <th>Title</th>\n",
       "      <th>Content</th>\n",
       "      <th>class</th>\n",
       "    </tr>\n",
       "  </thead>\n",
       "  <tbody>\n",
       "    <tr>\n",
       "      <th>20</th>\n",
       "      <td>1.840000e+14</td>\n",
       "      <td>mainstream</td>\n",
       "      <td>ABC News Politics</td>\n",
       "      <td>https://www.facebook.com/ABCNewsPolitics/posts...</td>\n",
       "      <td>9/27/2016</td>\n",
       "      <td>link</td>\n",
       "      <td>False</td>\n",
       "      <td>yes</td>\n",
       "      <td>NaN</td>\n",
       "      <td>93</td>\n",
       "      <td>68</td>\n",
       "      <td>BREAKING: The First Charges Have Been Filed I...</td>\n",
       "      <td>Special Counsel Robert Mueller appears to have...</td>\n",
       "      <td>0</td>\n",
       "    </tr>\n",
       "    <tr>\n",
       "      <th>21</th>\n",
       "      <td>6.231759e+10</td>\n",
       "      <td>mainstream</td>\n",
       "      <td>Politico</td>\n",
       "      <td>https://www.facebook.com/politico/posts/101538...</td>\n",
       "      <td>9/20/2016</td>\n",
       "      <td>link</td>\n",
       "      <td>False</td>\n",
       "      <td>NaN</td>\n",
       "      <td>159.0</td>\n",
       "      <td>429</td>\n",
       "      <td>49</td>\n",
       "      <td>Trump And John Kelly Just Got RIPPED APART By...</td>\n",
       "      <td>Donald Trump and his disgraceful team deserve ...</td>\n",
       "      <td>0</td>\n",
       "    </tr>\n",
       "    <tr>\n",
       "      <th>22</th>\n",
       "      <td>6.231759e+10</td>\n",
       "      <td>mainstream</td>\n",
       "      <td>Politico</td>\n",
       "      <td>https://www.facebook.com/politico/posts/101538...</td>\n",
       "      <td>9/22/2016</td>\n",
       "      <td>link</td>\n",
       "      <td>False</td>\n",
       "      <td>NaN</td>\n",
       "      <td>15.0</td>\n",
       "      <td>181</td>\n",
       "      <td>70</td>\n",
       "      <td>NRA Releases Fascist Ad Calling All Trump Cri...</td>\n",
       "      <td>The First Amendment of the United States Const...</td>\n",
       "      <td>0</td>\n",
       "    </tr>\n",
       "    <tr>\n",
       "      <th>23</th>\n",
       "      <td>6.231759e+10</td>\n",
       "      <td>mainstream</td>\n",
       "      <td>Politico</td>\n",
       "      <td>https://www.facebook.com/politico/posts/101538...</td>\n",
       "      <td>9/26/2016</td>\n",
       "      <td>link</td>\n",
       "      <td>False</td>\n",
       "      <td>NaN</td>\n",
       "      <td>36.0</td>\n",
       "      <td>189</td>\n",
       "      <td>27</td>\n",
       "      <td>Trump Takes Credit For Releasing JFK Files, B...</td>\n",
       "      <td>Saturday morning, Trump was going through his ...</td>\n",
       "      <td>0</td>\n",
       "    </tr>\n",
       "    <tr>\n",
       "      <th>24</th>\n",
       "      <td>6.231759e+10</td>\n",
       "      <td>mainstream</td>\n",
       "      <td>Politico</td>\n",
       "      <td>https://www.facebook.com/politico/posts/101538...</td>\n",
       "      <td>9/27/2016</td>\n",
       "      <td>link</td>\n",
       "      <td>False</td>\n",
       "      <td>NaN</td>\n",
       "      <td>222.0</td>\n",
       "      <td>1043</td>\n",
       "      <td>39</td>\n",
       "      <td>Bill Maher Takes Down Trumpâ€™s Lying Chief O...</td>\n",
       "      <td>White House Chief of Staff John Kelly is a Fo...</td>\n",
       "      <td>0</td>\n",
       "    </tr>\n",
       "  </tbody>\n",
       "</table>\n",
       "</div>"
      ],
      "text/plain": [
       "         post_id    Category               Page  \\\n",
       "20  1.840000e+14  mainstream  ABC News Politics   \n",
       "21  6.231759e+10  mainstream           Politico   \n",
       "22  6.231759e+10  mainstream           Politico   \n",
       "23  6.231759e+10  mainstream           Politico   \n",
       "24  6.231759e+10  mainstream           Politico   \n",
       "\n",
       "                                             Post URL Date Published  \\\n",
       "20  https://www.facebook.com/ABCNewsPolitics/posts...      9/27/2016   \n",
       "21  https://www.facebook.com/politico/posts/101538...      9/20/2016   \n",
       "22  https://www.facebook.com/politico/posts/101538...      9/22/2016   \n",
       "23  https://www.facebook.com/politico/posts/101538...      9/26/2016   \n",
       "24  https://www.facebook.com/politico/posts/101538...      9/27/2016   \n",
       "\n",
       "   Post Type  Rating Debate  share_count  reaction_count  comment_count  \\\n",
       "20      link   False    yes          NaN              93             68   \n",
       "21      link   False    NaN        159.0             429             49   \n",
       "22      link   False    NaN         15.0             181             70   \n",
       "23      link   False    NaN         36.0             189             27   \n",
       "24      link   False    NaN        222.0            1043             39   \n",
       "\n",
       "                                                Title  \\\n",
       "20   BREAKING: The First Charges Have Been Filed I...   \n",
       "21   Trump And John Kelly Just Got RIPPED APART By...   \n",
       "22   NRA Releases Fascist Ad Calling All Trump Cri...   \n",
       "23   Trump Takes Credit For Releasing JFK Files, B...   \n",
       "24   Bill Maher Takes Down Trumpâ€™s Lying Chief O...   \n",
       "\n",
       "                                              Content  class  \n",
       "20  Special Counsel Robert Mueller appears to have...      0  \n",
       "21  Donald Trump and his disgraceful team deserve ...      0  \n",
       "22  The First Amendment of the United States Const...      0  \n",
       "23  Saturday morning, Trump was going through his ...      0  \n",
       "24   White House Chief of Staff John Kelly is a Fo...      0  "
      ]
     },
     "execution_count": 8,
     "metadata": {},
     "output_type": "execute_result"
    }
   ],
   "source": [
    "fake_dataset_manual_testing.head(10)"
   ]
  },
  {
   "cell_type": "code",
   "execution_count": 9,
   "metadata": {},
   "outputs": [
    {
     "data": {
      "text/html": [
       "<div>\n",
       "<style scoped>\n",
       "    .dataframe tbody tr th:only-of-type {\n",
       "        vertical-align: middle;\n",
       "    }\n",
       "\n",
       "    .dataframe tbody tr th {\n",
       "        vertical-align: top;\n",
       "    }\n",
       "\n",
       "    .dataframe thead th {\n",
       "        text-align: right;\n",
       "    }\n",
       "</style>\n",
       "<table border=\"1\" class=\"dataframe\">\n",
       "  <thead>\n",
       "    <tr style=\"text-align: right;\">\n",
       "      <th></th>\n",
       "      <th>account_id</th>\n",
       "      <th>post_id</th>\n",
       "      <th>Category</th>\n",
       "      <th>Page</th>\n",
       "      <th>Post URL</th>\n",
       "      <th>Date Published</th>\n",
       "      <th>Post Type</th>\n",
       "      <th>Rating</th>\n",
       "      <th>Debate</th>\n",
       "      <th>share_count</th>\n",
       "      <th>reaction_count</th>\n",
       "      <th>comment_count</th>\n",
       "      <th>Title</th>\n",
       "      <th>Content</th>\n",
       "      <th>class</th>\n",
       "    </tr>\n",
       "  </thead>\n",
       "  <tbody>\n",
       "    <tr>\n",
       "      <th>91</th>\n",
       "      <td>6.231759e+10</td>\n",
       "      <td>1.020000e+16</td>\n",
       "      <td>mainstream</td>\n",
       "      <td>Politico</td>\n",
       "      <td>https://www.facebook.com/politico/posts/101538...</td>\n",
       "      <td>9/27/2016</td>\n",
       "      <td>link</td>\n",
       "      <td>True</td>\n",
       "      <td>yes</td>\n",
       "      <td>16</td>\n",
       "      <td>203</td>\n",
       "      <td>37</td>\n",
       "      <td>First Trump-Clinton debate is the most-watched...</td>\n",
       "      <td>The first general election debate between Hill...</td>\n",
       "      <td>1</td>\n",
       "    </tr>\n",
       "    <tr>\n",
       "      <th>92</th>\n",
       "      <td>6.231759e+10</td>\n",
       "      <td>1.020000e+16</td>\n",
       "      <td>mainstream</td>\n",
       "      <td>Politico</td>\n",
       "      <td>https://www.facebook.com/politico/posts/101538...</td>\n",
       "      <td>9/27/2016</td>\n",
       "      <td>link</td>\n",
       "      <td>True</td>\n",
       "      <td>NaN</td>\n",
       "      <td>1286</td>\n",
       "      <td>8025</td>\n",
       "      <td>238</td>\n",
       "      <td>The Arizona Republic endorses Hillary Clinton</td>\n",
       "      <td>For the first time in its 126-year history, Th...</td>\n",
       "      <td>1</td>\n",
       "    </tr>\n",
       "    <tr>\n",
       "      <th>93</th>\n",
       "      <td>6.231759e+10</td>\n",
       "      <td>1.020000e+16</td>\n",
       "      <td>mainstream</td>\n",
       "      <td>Politico</td>\n",
       "      <td>https://www.facebook.com/politico/posts/101538...</td>\n",
       "      <td>9/27/2016</td>\n",
       "      <td>link</td>\n",
       "      <td>True</td>\n",
       "      <td>NaN</td>\n",
       "      <td>94</td>\n",
       "      <td>385</td>\n",
       "      <td>32</td>\n",
       "      <td>Shimon Peres, Israeli leader for 8 decades, di...</td>\n",
       "      <td>Shimon Peres, whose public career spanned the ...</td>\n",
       "      <td>1</td>\n",
       "    </tr>\n",
       "    <tr>\n",
       "      <th>94</th>\n",
       "      <td>6.231759e+10</td>\n",
       "      <td>1.020000e+16</td>\n",
       "      <td>mainstream</td>\n",
       "      <td>Politico</td>\n",
       "      <td>https://www.facebook.com/politico/posts/101538...</td>\n",
       "      <td>9/27/2016</td>\n",
       "      <td>link</td>\n",
       "      <td>True</td>\n",
       "      <td>NaN</td>\n",
       "      <td>1127</td>\n",
       "      <td>6443</td>\n",
       "      <td>201</td>\n",
       "      <td>Former Va. Sen. John Warner slams Trump during...</td>\n",
       "      <td>Former Republican Sen. John Warner endorsed Hi...</td>\n",
       "      <td>1</td>\n",
       "    </tr>\n",
       "    <tr>\n",
       "      <th>95</th>\n",
       "      <td>6.231759e+10</td>\n",
       "      <td>1.020000e+16</td>\n",
       "      <td>mainstream</td>\n",
       "      <td>Politico</td>\n",
       "      <td>https://www.facebook.com/politico/posts/101538...</td>\n",
       "      <td>9/27/2016</td>\n",
       "      <td>link</td>\n",
       "      <td>True</td>\n",
       "      <td>NaN</td>\n",
       "      <td>190</td>\n",
       "      <td>1974</td>\n",
       "      <td>408</td>\n",
       "      <td>Chelsea Clinton: Father’s infidelity talk just...</td>\n",
       "      <td>Chelsea Clinton is in no rush to thank Donald ...</td>\n",
       "      <td>1</td>\n",
       "    </tr>\n",
       "  </tbody>\n",
       "</table>\n",
       "</div>"
      ],
      "text/plain": [
       "      account_id       post_id    Category      Page  \\\n",
       "91  6.231759e+10  1.020000e+16  mainstream  Politico   \n",
       "92  6.231759e+10  1.020000e+16  mainstream  Politico   \n",
       "93  6.231759e+10  1.020000e+16  mainstream  Politico   \n",
       "94  6.231759e+10  1.020000e+16  mainstream  Politico   \n",
       "95  6.231759e+10  1.020000e+16  mainstream  Politico   \n",
       "\n",
       "                                             Post URL Date Published  \\\n",
       "91  https://www.facebook.com/politico/posts/101538...      9/27/2016   \n",
       "92  https://www.facebook.com/politico/posts/101538...      9/27/2016   \n",
       "93  https://www.facebook.com/politico/posts/101538...      9/27/2016   \n",
       "94  https://www.facebook.com/politico/posts/101538...      9/27/2016   \n",
       "95  https://www.facebook.com/politico/posts/101538...      9/27/2016   \n",
       "\n",
       "   Post Type  Rating Debate  share_count  reaction_count  comment_count  \\\n",
       "91      link    True    yes           16             203             37   \n",
       "92      link    True    NaN         1286            8025            238   \n",
       "93      link    True    NaN           94             385             32   \n",
       "94      link    True    NaN         1127            6443            201   \n",
       "95      link    True    NaN          190            1974            408   \n",
       "\n",
       "                                                Title  \\\n",
       "91  First Trump-Clinton debate is the most-watched...   \n",
       "92      The Arizona Republic endorses Hillary Clinton   \n",
       "93  Shimon Peres, Israeli leader for 8 decades, di...   \n",
       "94  Former Va. Sen. John Warner slams Trump during...   \n",
       "95  Chelsea Clinton: Father’s infidelity talk just...   \n",
       "\n",
       "                                              Content  class  \n",
       "91  The first general election debate between Hill...      1  \n",
       "92  For the first time in its 126-year history, Th...      1  \n",
       "93  Shimon Peres, whose public career spanned the ...      1  \n",
       "94  Former Republican Sen. John Warner endorsed Hi...      1  \n",
       "95  Chelsea Clinton is in no rush to thank Donald ...      1  "
      ]
     },
     "execution_count": 9,
     "metadata": {},
     "output_type": "execute_result"
    }
   ],
   "source": [
    "true_dataset_manual_testing.head(10)"
   ]
  },
  {
   "cell_type": "code",
   "execution_count": 10,
   "metadata": {},
   "outputs": [],
   "source": [
    "df_manual_testing = pnda.concat([fake_dataset_manual_testing,true_dataset_manual_testing], axis = 0)\n",
    "df_manual_testing.to_csv(\"manual_testing.csv\")"
   ]
  },
  {
   "cell_type": "markdown",
   "metadata": {},
   "source": [
    "Combining true and fake news dataframe together"
   ]
  },
  {
   "cell_type": "code",
   "execution_count": 11,
   "metadata": {},
   "outputs": [
    {
     "data": {
      "text/html": [
       "<div>\n",
       "<style scoped>\n",
       "    .dataframe tbody tr th:only-of-type {\n",
       "        vertical-align: middle;\n",
       "    }\n",
       "\n",
       "    .dataframe tbody tr th {\n",
       "        vertical-align: top;\n",
       "    }\n",
       "\n",
       "    .dataframe thead th {\n",
       "        text-align: right;\n",
       "    }\n",
       "</style>\n",
       "<table border=\"1\" class=\"dataframe\">\n",
       "  <thead>\n",
       "    <tr style=\"text-align: right;\">\n",
       "      <th></th>\n",
       "      <th>post_id</th>\n",
       "      <th>Category</th>\n",
       "      <th>Page</th>\n",
       "      <th>Post URL</th>\n",
       "      <th>Date Published</th>\n",
       "      <th>Post Type</th>\n",
       "      <th>Rating</th>\n",
       "      <th>Debate</th>\n",
       "      <th>share_count</th>\n",
       "      <th>reaction_count</th>\n",
       "      <th>comment_count</th>\n",
       "      <th>Title</th>\n",
       "      <th>Content</th>\n",
       "      <th>class</th>\n",
       "      <th>account_id</th>\n",
       "    </tr>\n",
       "  </thead>\n",
       "  <tbody>\n",
       "    <tr>\n",
       "      <th>0</th>\n",
       "      <td>1.040000e+15</td>\n",
       "      <td>mainstream</td>\n",
       "      <td>ABC News Politics</td>\n",
       "      <td>https://www.facebook.com/ABCNewsPolitics/posts...</td>\n",
       "      <td>9/19/2016</td>\n",
       "      <td>link</td>\n",
       "      <td>False</td>\n",
       "      <td>NaN</td>\n",
       "      <td>25.0</td>\n",
       "      <td>207</td>\n",
       "      <td>108</td>\n",
       "      <td>Fatina Abdrabboh: Islam 'Has Deep Roots' in US</td>\n",
       "      <td>Fatina Abdrabboh, Director of American Arab An...</td>\n",
       "      <td>0</td>\n",
       "      <td>NaN</td>\n",
       "    </tr>\n",
       "    <tr>\n",
       "      <th>1</th>\n",
       "      <td>1.040000e+15</td>\n",
       "      <td>mainstream</td>\n",
       "      <td>ABC News Politics</td>\n",
       "      <td>https://www.facebook.com/ABCNewsPolitics/posts...</td>\n",
       "      <td>9/22/2016</td>\n",
       "      <td>link</td>\n",
       "      <td>False</td>\n",
       "      <td>NaN</td>\n",
       "      <td>38.0</td>\n",
       "      <td>138</td>\n",
       "      <td>32</td>\n",
       "      <td>President Obama Shares Emotional Video of Chil...</td>\n",
       "      <td>As criticism continues over Donald Trump Jr.’s...</td>\n",
       "      <td>0</td>\n",
       "      <td>NaN</td>\n",
       "    </tr>\n",
       "    <tr>\n",
       "      <th>2</th>\n",
       "      <td>1.040000e+15</td>\n",
       "      <td>mainstream</td>\n",
       "      <td>ABC News Politics</td>\n",
       "      <td>https://www.facebook.com/ABCNewsPolitics/posts...</td>\n",
       "      <td>9/26/2016</td>\n",
       "      <td>link</td>\n",
       "      <td>False</td>\n",
       "      <td>NaN</td>\n",
       "      <td>205.0</td>\n",
       "      <td>1049</td>\n",
       "      <td>997</td>\n",
       "      <td>5 Storylines to Watch During Tonight's Preside...</td>\n",
       "      <td>As millions of voters tune in to watch the fir...</td>\n",
       "      <td>0</td>\n",
       "      <td>NaN</td>\n",
       "    </tr>\n",
       "    <tr>\n",
       "      <th>3</th>\n",
       "      <td>1.040000e+15</td>\n",
       "      <td>mainstream</td>\n",
       "      <td>ABC News Politics</td>\n",
       "      <td>https://www.facebook.com/ABCNewsPolitics/posts...</td>\n",
       "      <td>9/26/2016</td>\n",
       "      <td>link</td>\n",
       "      <td>False</td>\n",
       "      <td>NaN</td>\n",
       "      <td>2.0</td>\n",
       "      <td>50</td>\n",
       "      <td>34</td>\n",
       "      <td>Stars Comment on Social Media Before Tonight's...</td>\n",
       "      <td>Tonight's presidential debate between Hillary ...</td>\n",
       "      <td>0</td>\n",
       "      <td>NaN</td>\n",
       "    </tr>\n",
       "    <tr>\n",
       "      <th>4</th>\n",
       "      <td>1.040000e+15</td>\n",
       "      <td>mainstream</td>\n",
       "      <td>ABC News Politics</td>\n",
       "      <td>https://www.facebook.com/ABCNewsPolitics/posts...</td>\n",
       "      <td>9/26/2016</td>\n",
       "      <td>link</td>\n",
       "      <td>False</td>\n",
       "      <td>yes</td>\n",
       "      <td>228.0</td>\n",
       "      <td>447</td>\n",
       "      <td>147</td>\n",
       "      <td>ANALYSIS: Hillary Clinton Baits Donald Trump I...</td>\n",
       "      <td>Hillary Clinton used the first presidential de...</td>\n",
       "      <td>0</td>\n",
       "      <td>NaN</td>\n",
       "    </tr>\n",
       "    <tr>\n",
       "      <th>5</th>\n",
       "      <td>1.020000e+16</td>\n",
       "      <td>mainstream</td>\n",
       "      <td>Politico</td>\n",
       "      <td>https://www.facebook.com/politico/posts/101538...</td>\n",
       "      <td>9/23/2016</td>\n",
       "      <td>link</td>\n",
       "      <td>False</td>\n",
       "      <td>NaN</td>\n",
       "      <td>61.0</td>\n",
       "      <td>608</td>\n",
       "      <td>92</td>\n",
       "      <td>Robert Kennedy Would Have Hated Donald Trump</td>\n",
       "      <td>writing as a former legislative assistant to S...</td>\n",
       "      <td>0</td>\n",
       "      <td>NaN</td>\n",
       "    </tr>\n",
       "    <tr>\n",
       "      <th>6</th>\n",
       "      <td>1.020000e+16</td>\n",
       "      <td>mainstream</td>\n",
       "      <td>Politico</td>\n",
       "      <td>https://www.facebook.com/politico/posts/101538...</td>\n",
       "      <td>9/23/2016</td>\n",
       "      <td>link</td>\n",
       "      <td>False</td>\n",
       "      <td>NaN</td>\n",
       "      <td>5.0</td>\n",
       "      <td>69</td>\n",
       "      <td>47</td>\n",
       "      <td>Nerdcast 2016: Are you ready for debate night?</td>\n",
       "      <td>It’s time for Episode 21 of the 2016 Nerdcast,...</td>\n",
       "      <td>0</td>\n",
       "      <td>NaN</td>\n",
       "    </tr>\n",
       "    <tr>\n",
       "      <th>7</th>\n",
       "      <td>1.840000e+14</td>\n",
       "      <td>mainstream</td>\n",
       "      <td>ABC News Politics</td>\n",
       "      <td>https://www.facebook.com/ABCNewsPolitics/posts...</td>\n",
       "      <td>9/19/2016</td>\n",
       "      <td>link</td>\n",
       "      <td>False</td>\n",
       "      <td>NaN</td>\n",
       "      <td>3.0</td>\n",
       "      <td>9</td>\n",
       "      <td>3</td>\n",
       "      <td>Guilty As Hell Paul Manafort And Rick Gates E...</td>\n",
       "      <td>The world is exploding right now due to the ne...</td>\n",
       "      <td>0</td>\n",
       "      <td>NaN</td>\n",
       "    </tr>\n",
       "    <tr>\n",
       "      <th>8</th>\n",
       "      <td>1.840000e+14</td>\n",
       "      <td>mainstream</td>\n",
       "      <td>ABC News Politics</td>\n",
       "      <td>https://www.facebook.com/ABCNewsPolitics/posts...</td>\n",
       "      <td>9/19/2016</td>\n",
       "      <td>link</td>\n",
       "      <td>False</td>\n",
       "      <td>NaN</td>\n",
       "      <td>NaN</td>\n",
       "      <td>24</td>\n",
       "      <td>7</td>\n",
       "      <td>This Is What Fox News Considered â€˜Newsâ€™ A...</td>\n",
       "      <td>This morning, Trump s former campaign manager ...</td>\n",
       "      <td>0</td>\n",
       "      <td>NaN</td>\n",
       "    </tr>\n",
       "    <tr>\n",
       "      <th>9</th>\n",
       "      <td>1.840000e+14</td>\n",
       "      <td>mainstream</td>\n",
       "      <td>ABC News Politics</td>\n",
       "      <td>https://www.facebook.com/ABCNewsPolitics/posts...</td>\n",
       "      <td>9/19/2016</td>\n",
       "      <td>link</td>\n",
       "      <td>False</td>\n",
       "      <td>NaN</td>\n",
       "      <td>5.0</td>\n",
       "      <td>19</td>\n",
       "      <td>6</td>\n",
       "      <td>Racistsâ€™ Heads Will Explode When They Find ...</td>\n",
       "      <td>Despite what many racists say and regardless o...</td>\n",
       "      <td>0</td>\n",
       "      <td>NaN</td>\n",
       "    </tr>\n",
       "  </tbody>\n",
       "</table>\n",
       "</div>"
      ],
      "text/plain": [
       "        post_id    Category               Page  \\\n",
       "0  1.040000e+15  mainstream  ABC News Politics   \n",
       "1  1.040000e+15  mainstream  ABC News Politics   \n",
       "2  1.040000e+15  mainstream  ABC News Politics   \n",
       "3  1.040000e+15  mainstream  ABC News Politics   \n",
       "4  1.040000e+15  mainstream  ABC News Politics   \n",
       "5  1.020000e+16  mainstream           Politico   \n",
       "6  1.020000e+16  mainstream           Politico   \n",
       "7  1.840000e+14  mainstream  ABC News Politics   \n",
       "8  1.840000e+14  mainstream  ABC News Politics   \n",
       "9  1.840000e+14  mainstream  ABC News Politics   \n",
       "\n",
       "                                            Post URL Date Published Post Type  \\\n",
       "0  https://www.facebook.com/ABCNewsPolitics/posts...      9/19/2016      link   \n",
       "1  https://www.facebook.com/ABCNewsPolitics/posts...      9/22/2016      link   \n",
       "2  https://www.facebook.com/ABCNewsPolitics/posts...      9/26/2016      link   \n",
       "3  https://www.facebook.com/ABCNewsPolitics/posts...      9/26/2016      link   \n",
       "4  https://www.facebook.com/ABCNewsPolitics/posts...      9/26/2016      link   \n",
       "5  https://www.facebook.com/politico/posts/101538...      9/23/2016      link   \n",
       "6  https://www.facebook.com/politico/posts/101538...      9/23/2016      link   \n",
       "7  https://www.facebook.com/ABCNewsPolitics/posts...      9/19/2016      link   \n",
       "8  https://www.facebook.com/ABCNewsPolitics/posts...      9/19/2016      link   \n",
       "9  https://www.facebook.com/ABCNewsPolitics/posts...      9/19/2016      link   \n",
       "\n",
       "   Rating Debate  share_count  reaction_count  comment_count  \\\n",
       "0   False    NaN         25.0             207            108   \n",
       "1   False    NaN         38.0             138             32   \n",
       "2   False    NaN        205.0            1049            997   \n",
       "3   False    NaN          2.0              50             34   \n",
       "4   False    yes        228.0             447            147   \n",
       "5   False    NaN         61.0             608             92   \n",
       "6   False    NaN          5.0              69             47   \n",
       "7   False    NaN          3.0               9              3   \n",
       "8   False    NaN          NaN              24              7   \n",
       "9   False    NaN          5.0              19              6   \n",
       "\n",
       "                                               Title  \\\n",
       "0     Fatina Abdrabboh: Islam 'Has Deep Roots' in US   \n",
       "1  President Obama Shares Emotional Video of Chil...   \n",
       "2  5 Storylines to Watch During Tonight's Preside...   \n",
       "3  Stars Comment on Social Media Before Tonight's...   \n",
       "4  ANALYSIS: Hillary Clinton Baits Donald Trump I...   \n",
       "5       Robert Kennedy Would Have Hated Donald Trump   \n",
       "6     Nerdcast 2016: Are you ready for debate night?   \n",
       "7   Guilty As Hell Paul Manafort And Rick Gates E...   \n",
       "8   This Is What Fox News Considered â€˜Newsâ€™ A...   \n",
       "9   Racistsâ€™ Heads Will Explode When They Find ...   \n",
       "\n",
       "                                             Content  class  account_id  \n",
       "0  Fatina Abdrabboh, Director of American Arab An...      0         NaN  \n",
       "1  As criticism continues over Donald Trump Jr.’s...      0         NaN  \n",
       "2  As millions of voters tune in to watch the fir...      0         NaN  \n",
       "3  Tonight's presidential debate between Hillary ...      0         NaN  \n",
       "4  Hillary Clinton used the first presidential de...      0         NaN  \n",
       "5  writing as a former legislative assistant to S...      0         NaN  \n",
       "6  It’s time for Episode 21 of the 2016 Nerdcast,...      0         NaN  \n",
       "7  The world is exploding right now due to the ne...      0         NaN  \n",
       "8  This morning, Trump s former campaign manager ...      0         NaN  \n",
       "9  Despite what many racists say and regardless o...      0         NaN  "
      ]
     },
     "execution_count": 11,
     "metadata": {},
     "output_type": "execute_result"
    }
   ],
   "source": [
    "df_marge = pnda.concat([fake_dataset, true_dataset], axis =0 )\n",
    "df_marge.head(10) "
   ]
  },
  {
   "cell_type": "code",
   "execution_count": 12,
   "metadata": {},
   "outputs": [
    {
     "data": {
      "text/plain": [
       "Index(['post_id', 'Category', 'Page', 'Post URL', 'Date Published',\n",
       "       'Post Type', 'Rating', 'Debate', 'share_count', 'reaction_count',\n",
       "       'comment_count', 'Title', 'Content', 'class', 'account_id'],\n",
       "      dtype='object')"
      ]
     },
     "execution_count": 12,
     "metadata": {},
     "output_type": "execute_result"
    }
   ],
   "source": [
    "df_marge.columns"
   ]
  },
  {
   "cell_type": "markdown",
   "metadata": {},
   "source": [
    "#### 'post_id', 'Category', 'Page', 'Post URL', 'Date Published', 'Post Type', 'Rating', 'Debate', 'share_count', 'reaction_count', 'comment_count', 'Title', and 'account_id' columns are not necessary for textual prediction, removing un-necessary columns"
   ]
  },
  {
   "cell_type": "code",
   "execution_count": 13,
   "metadata": {},
   "outputs": [],
   "source": [
    "df = df_marge.drop(['post_id', 'Category', 'Page', 'Post URL', 'Date Published','Post Type', 'Rating', 'Debate', 'share_count', 'reaction_count','comment_count', 'Title', 'account_id'], axis = 1)"
   ]
  },
  {
   "cell_type": "code",
   "execution_count": 14,
   "metadata": {},
   "outputs": [
    {
     "data": {
      "text/plain": [
       "Content    0\n",
       "class      0\n",
       "dtype: int64"
      ]
     },
     "execution_count": 14,
     "metadata": {},
     "output_type": "execute_result"
    }
   ],
   "source": [
    "df.isnull().sum()"
   ]
  },
  {
   "cell_type": "markdown",
   "metadata": {},
   "source": [
    "#### Shuffling dataframe randomly"
   ]
  },
  {
   "cell_type": "code",
   "execution_count": 15,
   "metadata": {},
   "outputs": [],
   "source": [
    "df = df.sample(frac = 1)"
   ]
  },
  {
   "cell_type": "code",
   "execution_count": 16,
   "metadata": {},
   "outputs": [
    {
     "data": {
      "text/html": [
       "<div>\n",
       "<style scoped>\n",
       "    .dataframe tbody tr th:only-of-type {\n",
       "        vertical-align: middle;\n",
       "    }\n",
       "\n",
       "    .dataframe tbody tr th {\n",
       "        vertical-align: top;\n",
       "    }\n",
       "\n",
       "    .dataframe thead th {\n",
       "        text-align: right;\n",
       "    }\n",
       "</style>\n",
       "<table border=\"1\" class=\"dataframe\">\n",
       "  <thead>\n",
       "    <tr style=\"text-align: right;\">\n",
       "      <th></th>\n",
       "      <th>Content</th>\n",
       "      <th>class</th>\n",
       "    </tr>\n",
       "  </thead>\n",
       "  <tbody>\n",
       "    <tr>\n",
       "      <th>88</th>\n",
       "      <td>FBI Director James Comey warned Tuesday that t...</td>\n",
       "      <td>1</td>\n",
       "    </tr>\n",
       "    <tr>\n",
       "      <th>14</th>\n",
       "      <td>A suspicious device found in a trash can near ...</td>\n",
       "      <td>1</td>\n",
       "    </tr>\n",
       "    <tr>\n",
       "      <th>39</th>\n",
       "      <td>NEWARK — A Donald Trump aide who worked for Go...</td>\n",
       "      <td>1</td>\n",
       "    </tr>\n",
       "    <tr>\n",
       "      <th>30</th>\n",
       "      <td>North Carolina Gov. Pat McCrory said Friday th...</td>\n",
       "      <td>1</td>\n",
       "    </tr>\n",
       "    <tr>\n",
       "      <th>23</th>\n",
       "      <td>North Carolina Republicans are lamenting the u...</td>\n",
       "      <td>1</td>\n",
       "    </tr>\n",
       "  </tbody>\n",
       "</table>\n",
       "</div>"
      ],
      "text/plain": [
       "                                              Content  class\n",
       "88  FBI Director James Comey warned Tuesday that t...      1\n",
       "14  A suspicious device found in a trash can near ...      1\n",
       "39  NEWARK — A Donald Trump aide who worked for Go...      1\n",
       "30  North Carolina Gov. Pat McCrory said Friday th...      1\n",
       "23  North Carolina Republicans are lamenting the u...      1"
      ]
     },
     "execution_count": 16,
     "metadata": {},
     "output_type": "execute_result"
    }
   ],
   "source": [
    "df.head()"
   ]
  },
  {
   "cell_type": "code",
   "execution_count": 17,
   "metadata": {},
   "outputs": [],
   "source": [
    "df.reset_index(inplace = True)\n",
    "df.drop([\"index\"], axis = 1, inplace = True)"
   ]
  },
  {
   "cell_type": "code",
   "execution_count": 18,
   "metadata": {},
   "outputs": [
    {
     "data": {
      "text/plain": [
       "Index(['Content', 'class'], dtype='object')"
      ]
     },
     "execution_count": 18,
     "metadata": {},
     "output_type": "execute_result"
    }
   ],
   "source": [
    "df.columns"
   ]
  },
  {
   "cell_type": "code",
   "execution_count": 19,
   "metadata": {},
   "outputs": [
    {
     "data": {
      "text/html": [
       "<div>\n",
       "<style scoped>\n",
       "    .dataframe tbody tr th:only-of-type {\n",
       "        vertical-align: middle;\n",
       "    }\n",
       "\n",
       "    .dataframe tbody tr th {\n",
       "        vertical-align: top;\n",
       "    }\n",
       "\n",
       "    .dataframe thead th {\n",
       "        text-align: right;\n",
       "    }\n",
       "</style>\n",
       "<table border=\"1\" class=\"dataframe\">\n",
       "  <thead>\n",
       "    <tr style=\"text-align: right;\">\n",
       "      <th></th>\n",
       "      <th>Content</th>\n",
       "      <th>class</th>\n",
       "    </tr>\n",
       "  </thead>\n",
       "  <tbody>\n",
       "    <tr>\n",
       "      <th>0</th>\n",
       "      <td>FBI Director James Comey warned Tuesday that t...</td>\n",
       "      <td>1</td>\n",
       "    </tr>\n",
       "    <tr>\n",
       "      <th>1</th>\n",
       "      <td>A suspicious device found in a trash can near ...</td>\n",
       "      <td>1</td>\n",
       "    </tr>\n",
       "    <tr>\n",
       "      <th>2</th>\n",
       "      <td>NEWARK — A Donald Trump aide who worked for Go...</td>\n",
       "      <td>1</td>\n",
       "    </tr>\n",
       "    <tr>\n",
       "      <th>3</th>\n",
       "      <td>North Carolina Gov. Pat McCrory said Friday th...</td>\n",
       "      <td>1</td>\n",
       "    </tr>\n",
       "    <tr>\n",
       "      <th>4</th>\n",
       "      <td>North Carolina Republicans are lamenting the u...</td>\n",
       "      <td>1</td>\n",
       "    </tr>\n",
       "  </tbody>\n",
       "</table>\n",
       "</div>"
      ],
      "text/plain": [
       "                                             Content  class\n",
       "0  FBI Director James Comey warned Tuesday that t...      1\n",
       "1  A suspicious device found in a trash can near ...      1\n",
       "2  NEWARK — A Donald Trump aide who worked for Go...      1\n",
       "3  North Carolina Gov. Pat McCrory said Friday th...      1\n",
       "4  North Carolina Republicans are lamenting the u...      1"
      ]
     },
     "execution_count": 19,
     "metadata": {},
     "output_type": "execute_result"
    }
   ],
   "source": [
    "df.head()"
   ]
  },
  {
   "cell_type": "markdown",
   "metadata": {},
   "source": [
    "#### Defining Dataframe Cleaning Function: Creating a function to convert the text in lowercase, remove the extra space, special chr., ulr and links.\n",
    "        - Converting to lowercase\n",
    "        - removing special characters\n",
    "        - removing extra space\n",
    "        - removing URL and hyperlinks\n",
    "        - Removing extra line space\n"
   ]
  },
  {
   "cell_type": "code",
   "execution_count": 20,
   "metadata": {},
   "outputs": [],
   "source": [
    "def dataFilter(newsContent):\n",
    "    newsContent = newsContent.lower()\n",
    "    newsContent = re.sub(\"\\\\W\",\" \",newsContent) \n",
    "    newsContent = re.sub('<.*?>+', '', newsContent)\n",
    "    newsContent = re.sub('\\n', '', newsContent)\n",
    "    newsContent = re.sub('https?://\\S+|www\\.\\S+', '', newsContent)\n",
    "    newsContent = re.sub('\\[.*?\\]', '', newsContent)\n",
    "    newsContent = re.sub('[%s]' % re.escape(string.punctuation), '', newsContent)\n",
    "    newsContent = re.sub('\\w*\\d\\w*', '', newsContent)\n",
    "    return newsContent"
   ]
  },
  {
   "cell_type": "code",
   "execution_count": 21,
   "metadata": {},
   "outputs": [],
   "source": [
    "df[\"text\"] = df[\"Content\"].apply(dataFilter)"
   ]
  },
  {
   "cell_type": "markdown",
   "metadata": {},
   "source": [
    "#### Defining x as dependent and y as independent variable"
   ]
  },
  {
   "cell_type": "code",
   "execution_count": 22,
   "metadata": {},
   "outputs": [],
   "source": [
    "x = df[\"text\"]\n",
    "y = df[\"class\"]"
   ]
  },
  {
   "cell_type": "markdown",
   "metadata": {},
   "source": [
    "#### Dividing dataset into two sets\n",
    "        1. Training Set\n",
    "        2. Testing Set"
   ]
  },
  {
   "cell_type": "code",
   "execution_count": 23,
   "metadata": {},
   "outputs": [],
   "source": [
    "trainSet_x, testSet_x, trainSet_y, testSet_y = train_test_split(x, y, test_size=0.25)"
   ]
  },
  {
   "cell_type": "markdown",
   "metadata": {},
   "source": [
    "#### Vectorizing Textual content"
   ]
  },
  {
   "cell_type": "code",
   "execution_count": 24,
   "metadata": {},
   "outputs": [],
   "source": [
    "from sklearn.feature_extraction.text import TfidfVectorizer"
   ]
  },
  {
   "cell_type": "code",
   "execution_count": 25,
   "metadata": {},
   "outputs": [],
   "source": [
    "v = TfidfVectorizer()\n",
    "xv_train = v.fit_transform(trainSet_x)\n",
    "xv_test = v.transform(testSet_x)"
   ]
  },
  {
   "cell_type": "markdown",
   "metadata": {},
   "source": [
    "### 1. Naive Bayes Classifier"
   ]
  },
  {
   "cell_type": "code",
   "execution_count": 26,
   "metadata": {},
   "outputs": [
    {
     "data": {
      "text/plain": [
       "GaussianNB()"
      ]
     },
     "execution_count": 26,
     "metadata": {},
     "output_type": "execute_result"
    }
   ],
   "source": [
    "#defining a classifier\n",
    "gaussianNB = GaussianNB()\n",
    "gaussianNB.fit(xv_train.toarray(), trainSet_y)"
   ]
  },
  {
   "cell_type": "code",
   "execution_count": 27,
   "metadata": {},
   "outputs": [],
   "source": [
    "pred_gussianNB= gaussianNB.predict(xv_test.toarray())"
   ]
  },
  {
   "cell_type": "code",
   "execution_count": 28,
   "metadata": {},
   "outputs": [
    {
     "data": {
      "text/plain": [
       "0.7857142857142857"
      ]
     },
     "execution_count": 28,
     "metadata": {},
     "output_type": "execute_result"
    }
   ],
   "source": [
    "gaussianNB.score(xv_test.toarray(), testSet_y)"
   ]
  },
  {
   "cell_type": "code",
   "execution_count": 29,
   "metadata": {},
   "outputs": [
    {
     "name": "stdout",
     "output_type": "stream",
     "text": [
      "              precision    recall  f1-score   support\n",
      "\n",
      "           0       1.00      0.14      0.25         7\n",
      "           1       0.78      1.00      0.88        21\n",
      "\n",
      "    accuracy                           0.79        28\n",
      "   macro avg       0.89      0.57      0.56        28\n",
      "weighted avg       0.83      0.79      0.72        28\n",
      "\n"
     ]
    }
   ],
   "source": [
    "print(classification_report(testSet_y, pred_gussianNB))"
   ]
  },
  {
   "cell_type": "markdown",
   "metadata": {},
   "source": [
    "### 2. Logistic Regression"
   ]
  },
  {
   "cell_type": "code",
   "execution_count": 30,
   "metadata": {},
   "outputs": [
    {
     "data": {
      "text/plain": [
       "LogisticRegression()"
      ]
     },
     "execution_count": 30,
     "metadata": {},
     "output_type": "execute_result"
    }
   ],
   "source": [
    "LoRe = LogisticRegression()\n",
    "LoRe.fit(xv_train,trainSet_y)"
   ]
  },
  {
   "cell_type": "code",
   "execution_count": 31,
   "metadata": {},
   "outputs": [],
   "source": [
    "pred_LoRe=LoRe.predict(xv_test)"
   ]
  },
  {
   "cell_type": "code",
   "execution_count": 32,
   "metadata": {},
   "outputs": [
    {
     "data": {
      "text/plain": [
       "0.75"
      ]
     },
     "execution_count": 32,
     "metadata": {},
     "output_type": "execute_result"
    }
   ],
   "source": [
    "LoRe.score(xv_test, testSet_y)"
   ]
  },
  {
   "cell_type": "code",
   "execution_count": 33,
   "metadata": {},
   "outputs": [
    {
     "name": "stdout",
     "output_type": "stream",
     "text": [
      "              precision    recall  f1-score   support\n",
      "\n",
      "           0       0.00      0.00      0.00         7\n",
      "           1       0.75      1.00      0.86        21\n",
      "\n",
      "    accuracy                           0.75        28\n",
      "   macro avg       0.38      0.50      0.43        28\n",
      "weighted avg       0.56      0.75      0.64        28\n",
      "\n"
     ]
    },
    {
     "name": "stderr",
     "output_type": "stream",
     "text": [
      "c:\\Users\\Ananda\\anaconda3\\lib\\site-packages\\sklearn\\metrics\\_classification.py:1248: UndefinedMetricWarning: Precision and F-score are ill-defined and being set to 0.0 in labels with no predicted samples. Use `zero_division` parameter to control this behavior.\n",
      "  _warn_prf(average, modifier, msg_start, len(result))\n",
      "c:\\Users\\Ananda\\anaconda3\\lib\\site-packages\\sklearn\\metrics\\_classification.py:1248: UndefinedMetricWarning: Precision and F-score are ill-defined and being set to 0.0 in labels with no predicted samples. Use `zero_division` parameter to control this behavior.\n",
      "  _warn_prf(average, modifier, msg_start, len(result))\n",
      "c:\\Users\\Ananda\\anaconda3\\lib\\site-packages\\sklearn\\metrics\\_classification.py:1248: UndefinedMetricWarning: Precision and F-score are ill-defined and being set to 0.0 in labels with no predicted samples. Use `zero_division` parameter to control this behavior.\n",
      "  _warn_prf(average, modifier, msg_start, len(result))\n"
     ]
    }
   ],
   "source": [
    "print(classification_report(testSet_y, pred_LoRe))"
   ]
  },
  {
   "cell_type": "markdown",
   "metadata": {},
   "source": [
    "### 3. Decision Tree Classifier"
   ]
  },
  {
   "cell_type": "code",
   "execution_count": 34,
   "metadata": {},
   "outputs": [
    {
     "data": {
      "text/plain": [
       "DecisionTreeClassifier()"
      ]
     },
     "execution_count": 34,
     "metadata": {},
     "output_type": "execute_result"
    }
   ],
   "source": [
    "DeTr = DecisionTreeClassifier()\n",
    "DeTr.fit(xv_train, trainSet_y)"
   ]
  },
  {
   "cell_type": "code",
   "execution_count": 35,
   "metadata": {},
   "outputs": [],
   "source": [
    "pred_DeTr = DeTr.predict(xv_test)"
   ]
  },
  {
   "cell_type": "code",
   "execution_count": 36,
   "metadata": {},
   "outputs": [
    {
     "data": {
      "text/plain": [
       "0.8214285714285714"
      ]
     },
     "execution_count": 36,
     "metadata": {},
     "output_type": "execute_result"
    }
   ],
   "source": [
    "DeTr.score(xv_test, testSet_y)"
   ]
  },
  {
   "cell_type": "code",
   "execution_count": 37,
   "metadata": {},
   "outputs": [
    {
     "name": "stdout",
     "output_type": "stream",
     "text": [
      "              precision    recall  f1-score   support\n",
      "\n",
      "           0       0.75      0.43      0.55         7\n",
      "           1       0.83      0.95      0.89        21\n",
      "\n",
      "    accuracy                           0.82        28\n",
      "   macro avg       0.79      0.69      0.72        28\n",
      "weighted avg       0.81      0.82      0.80        28\n",
      "\n"
     ]
    }
   ],
   "source": [
    "print(classification_report(testSet_y, pred_DeTr))"
   ]
  },
  {
   "cell_type": "markdown",
   "metadata": {},
   "source": [
    "### 4. Gradient Boosting Classifier"
   ]
  },
  {
   "cell_type": "code",
   "execution_count": 38,
   "metadata": {},
   "outputs": [
    {
     "data": {
      "text/plain": [
       "GradientBoostingClassifier(random_state=0)"
      ]
     },
     "execution_count": 38,
     "metadata": {},
     "output_type": "execute_result"
    }
   ],
   "source": [
    "GrBoCl = GradientBoostingClassifier(random_state=0)\n",
    "GrBoCl.fit(xv_train, trainSet_y)"
   ]
  },
  {
   "cell_type": "code",
   "execution_count": 39,
   "metadata": {},
   "outputs": [],
   "source": [
    "pred_GrBoCl = GrBoCl.predict(xv_test)"
   ]
  },
  {
   "cell_type": "code",
   "execution_count": 40,
   "metadata": {},
   "outputs": [
    {
     "data": {
      "text/plain": [
       "0.8571428571428571"
      ]
     },
     "execution_count": 40,
     "metadata": {},
     "output_type": "execute_result"
    }
   ],
   "source": [
    "GrBoCl.score(xv_test, testSet_y)"
   ]
  },
  {
   "cell_type": "code",
   "execution_count": 41,
   "metadata": {},
   "outputs": [
    {
     "name": "stdout",
     "output_type": "stream",
     "text": [
      "              precision    recall  f1-score   support\n",
      "\n",
      "           0       1.00      0.43      0.60         7\n",
      "           1       0.84      1.00      0.91        21\n",
      "\n",
      "    accuracy                           0.86        28\n",
      "   macro avg       0.92      0.71      0.76        28\n",
      "weighted avg       0.88      0.86      0.83        28\n",
      "\n"
     ]
    }
   ],
   "source": [
    "print(classification_report(testSet_y, pred_GrBoCl))"
   ]
  },
  {
   "cell_type": "markdown",
   "metadata": {},
   "source": [
    "### 5. Random Forest Classifier"
   ]
  },
  {
   "cell_type": "code",
   "execution_count": 42,
   "metadata": {},
   "outputs": [
    {
     "data": {
      "text/plain": [
       "RandomForestClassifier(random_state=0)"
      ]
     },
     "execution_count": 42,
     "metadata": {},
     "output_type": "execute_result"
    }
   ],
   "source": [
    "RaFoCl = RandomForestClassifier(random_state=0)\n",
    "RaFoCl.fit(xv_train, trainSet_y)"
   ]
  },
  {
   "cell_type": "code",
   "execution_count": 43,
   "metadata": {},
   "outputs": [],
   "source": [
    "pred_RaFoCl = RaFoCl.predict(xv_test)"
   ]
  },
  {
   "cell_type": "code",
   "execution_count": 44,
   "metadata": {},
   "outputs": [
    {
     "data": {
      "text/plain": [
       "0.75"
      ]
     },
     "execution_count": 44,
     "metadata": {},
     "output_type": "execute_result"
    }
   ],
   "source": [
    "RaFoCl.score(xv_test, testSet_y)"
   ]
  },
  {
   "cell_type": "code",
   "execution_count": 45,
   "metadata": {},
   "outputs": [
    {
     "name": "stdout",
     "output_type": "stream",
     "text": [
      "              precision    recall  f1-score   support\n",
      "\n",
      "           0       0.00      0.00      0.00         7\n",
      "           1       0.75      1.00      0.86        21\n",
      "\n",
      "    accuracy                           0.75        28\n",
      "   macro avg       0.38      0.50      0.43        28\n",
      "weighted avg       0.56      0.75      0.64        28\n",
      "\n"
     ]
    },
    {
     "name": "stderr",
     "output_type": "stream",
     "text": [
      "c:\\Users\\Ananda\\anaconda3\\lib\\site-packages\\sklearn\\metrics\\_classification.py:1248: UndefinedMetricWarning: Precision and F-score are ill-defined and being set to 0.0 in labels with no predicted samples. Use `zero_division` parameter to control this behavior.\n",
      "  _warn_prf(average, modifier, msg_start, len(result))\n",
      "c:\\Users\\Ananda\\anaconda3\\lib\\site-packages\\sklearn\\metrics\\_classification.py:1248: UndefinedMetricWarning: Precision and F-score are ill-defined and being set to 0.0 in labels with no predicted samples. Use `zero_division` parameter to control this behavior.\n",
      "  _warn_prf(average, modifier, msg_start, len(result))\n",
      "c:\\Users\\Ananda\\anaconda3\\lib\\site-packages\\sklearn\\metrics\\_classification.py:1248: UndefinedMetricWarning: Precision and F-score are ill-defined and being set to 0.0 in labels with no predicted samples. Use `zero_division` parameter to control this behavior.\n",
      "  _warn_prf(average, modifier, msg_start, len(result))\n"
     ]
    }
   ],
   "source": [
    "print(classification_report(testSet_y, pred_RaFoCl))"
   ]
  },
  {
   "cell_type": "markdown",
   "metadata": {},
   "source": [
    "# Manual Testing\n"
   ]
  },
  {
   "cell_type": "code",
   "execution_count": 46,
   "metadata": {},
   "outputs": [],
   "source": [
    "def op_lable(n):\n",
    "    if n == 0:\n",
    "        return \"Fake News\"\n",
    "    elif n == 1:\n",
    "        return \"Not A Fake News\"\n",
    "    \n",
    "def manual_testing(news):\n",
    "    testing_news = {\"text\":[news]}\n",
    "    new_def_test = pnda.DataFrame(testing_news)\n",
    "    new_def_test[\"text\"] = new_def_test[\"text\"].apply(dataFilter) \n",
    "    new_x_test = new_def_test[\"text\"]\n",
    "    new_xv_test = v.transform(new_x_test)\n",
    "    pred_GNB = gaussianNB.predict(new_xv_test.toarray())\n",
    "    pred_LR = LoRe.predict(new_xv_test)\n",
    "    pred_DT = DeTr.predict(new_xv_test)\n",
    "    pred_GBC = GrBoCl.predict(new_xv_test)\n",
    "    pred_RFC = RaFoCl.predict(new_xv_test)\n",
    "\n",
    "    return print(\"\\n\\nGaussian Naive Bayes Prediction: {} \\nLogistic Regression Prediction: {} \\nDecision Tree Prediction: {} \\nGradient Boosting Prediction: {} \\nRandom Forest Prediction: {}\".format(op_lable(pred_GNB[0]),\n",
    "                                                                                                            op_lable(pred_LR[0]), \n",
    "                                                                                                              op_lable(pred_DT[0]), \n",
    "                                                                                                              op_lable(pred_GBC[0]), \n",
    "                                                                                                              op_lable(pred_RFC[0])))"
   ]
  },
  {
   "cell_type": "code",
   "execution_count": 47,
   "metadata": {},
   "outputs": [
    {
     "name": "stdout",
     "output_type": "stream",
     "text": [
      "\n",
      "\n",
      "Gaussian Naive Bayes Prediction: Not A Fake News \n",
      "Logistic Regression Prediction: Not A Fake News \n",
      "Decision Tree Prediction: Not A Fake News \n",
      "Gradient Boosting Prediction: Not A Fake News \n",
      "Random Forest Prediction: Not A Fake News\n"
     ]
    }
   ],
   "source": [
    "news = str(input())\n",
    "manual_testing(news)"
   ]
  }
 ],
 "metadata": {
  "interpreter": {
   "hash": "2db04e191085c925f35704d5645a1f5ec8c10b267e24c755d6661bdf1429d0eb"
  },
  "kernelspec": {
   "display_name": "Python 3.9.7 ('base')",
   "language": "python",
   "name": "python3"
  },
  "language_info": {
   "codemirror_mode": {
    "name": "ipython",
    "version": 3
   },
   "file_extension": ".py",
   "mimetype": "text/x-python",
   "name": "python",
   "nbconvert_exporter": "python",
   "pygments_lexer": "ipython3",
   "version": "3.9.7"
  }
 },
 "nbformat": 4,
 "nbformat_minor": 2
}
